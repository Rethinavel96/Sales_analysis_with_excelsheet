{
 "cells": [
  {
   "cell_type": "markdown",
   "id": "7e3bd3ee",
   "metadata": {},
   "source": [
    "Name: Rethinavel Yogesh"
   ]
  },
  {
   "cell_type": "code",
   "execution_count": 1,
   "id": "319ce6ee",
   "metadata": {},
   "outputs": [],
   "source": [
    "import pandas as pd\n",
    "import numpy as np\n",
    "import matplotlib.pyplot as plt\n",
    "import seaborn as sns"
   ]
  },
  {
   "cell_type": "code",
   "execution_count": 2,
   "id": "cc36b56a",
   "metadata": {},
   "outputs": [],
   "source": [
    "# importing dataset\n",
    "df=pd.read_csv('upgrad_task.csv',encoding='ISO-8859-1',parse_dates=['day'])"
   ]
  },
  {
   "cell_type": "code",
   "execution_count": 3,
   "id": "f493805a",
   "metadata": {},
   "outputs": [
    {
     "data": {
      "text/html": [
       "<div>\n",
       "<style scoped>\n",
       "    .dataframe tbody tr th:only-of-type {\n",
       "        vertical-align: middle;\n",
       "    }\n",
       "\n",
       "    .dataframe tbody tr th {\n",
       "        vertical-align: top;\n",
       "    }\n",
       "\n",
       "    .dataframe thead th {\n",
       "        text-align: right;\n",
       "    }\n",
       "</style>\n",
       "<table border=\"1\" class=\"dataframe\">\n",
       "  <thead>\n",
       "    <tr style=\"text-align: right;\">\n",
       "      <th></th>\n",
       "      <th>day</th>\n",
       "      <th>customer_id</th>\n",
       "      <th>product_type</th>\n",
       "      <th>product_title</th>\n",
       "      <th>shipping_city</th>\n",
       "      <th>shipping_region</th>\n",
       "      <th>orders</th>\n",
       "      <th>gross_sales</th>\n",
       "      <th>discounts</th>\n",
       "      <th>returns</th>\n",
       "      <th>net_sales</th>\n",
       "      <th>shipping</th>\n",
       "      <th>duties</th>\n",
       "      <th>additional_fees</th>\n",
       "      <th>taxes</th>\n",
       "      <th>total_sales</th>\n",
       "      <th>ordered_item_quantity</th>\n",
       "    </tr>\n",
       "  </thead>\n",
       "  <tbody>\n",
       "    <tr>\n",
       "      <th>0</th>\n",
       "      <td>2022-01-01</td>\n",
       "      <td>5.440000e+12</td>\n",
       "      <td>Maternity and Nursing Top</td>\n",
       "      <td>Rose Melange Maternity and Feeding Sweatshirt ...</td>\n",
       "      <td>Panipat</td>\n",
       "      <td>Haryana</td>\n",
       "      <td>1</td>\n",
       "      <td>1439.83</td>\n",
       "      <td>-316.76</td>\n",
       "      <td>0.0</td>\n",
       "      <td>1123.07</td>\n",
       "      <td>0</td>\n",
       "      <td>0</td>\n",
       "      <td>0</td>\n",
       "      <td>202.15</td>\n",
       "      <td>1325.22</td>\n",
       "      <td>1</td>\n",
       "    </tr>\n",
       "    <tr>\n",
       "      <th>1</th>\n",
       "      <td>2022-01-01</td>\n",
       "      <td>5.730000e+12</td>\n",
       "      <td>Baby Oil</td>\n",
       "      <td>100% Natural Cold Pressed Virgin Coconut Oil f...</td>\n",
       "      <td>Gurgaon</td>\n",
       "      <td>Haryana</td>\n",
       "      <td>1</td>\n",
       "      <td>422.03</td>\n",
       "      <td>-42.20</td>\n",
       "      <td>0.0</td>\n",
       "      <td>379.83</td>\n",
       "      <td>0</td>\n",
       "      <td>0</td>\n",
       "      <td>0</td>\n",
       "      <td>68.37</td>\n",
       "      <td>448.20</td>\n",
       "      <td>1</td>\n",
       "    </tr>\n",
       "    <tr>\n",
       "      <th>2</th>\n",
       "      <td>2022-01-01</td>\n",
       "      <td>5.730000e+12</td>\n",
       "      <td>NaN</td>\n",
       "      <td>NaN</td>\n",
       "      <td>Gurgaon</td>\n",
       "      <td>Haryana</td>\n",
       "      <td>0</td>\n",
       "      <td>0.00</td>\n",
       "      <td>0.00</td>\n",
       "      <td>0.0</td>\n",
       "      <td>0.00</td>\n",
       "      <td>0</td>\n",
       "      <td>0</td>\n",
       "      <td>0</td>\n",
       "      <td>0.00</td>\n",
       "      <td>0.00</td>\n",
       "      <td>0</td>\n",
       "    </tr>\n",
       "    <tr>\n",
       "      <th>3</th>\n",
       "      <td>2022-01-01</td>\n",
       "      <td>5.730000e+12</td>\n",
       "      <td>Baby Anti-Slip Socks</td>\n",
       "      <td>Socks with a Soul Combo - Baby Polar Bear &amp; Sw...</td>\n",
       "      <td>Gurgaon</td>\n",
       "      <td>Haryana</td>\n",
       "      <td>1</td>\n",
       "      <td>677.12</td>\n",
       "      <td>-67.71</td>\n",
       "      <td>0.0</td>\n",
       "      <td>609.41</td>\n",
       "      <td>0</td>\n",
       "      <td>0</td>\n",
       "      <td>0</td>\n",
       "      <td>109.69</td>\n",
       "      <td>719.10</td>\n",
       "      <td>1</td>\n",
       "    </tr>\n",
       "    <tr>\n",
       "      <th>4</th>\n",
       "      <td>2022-01-01</td>\n",
       "      <td>5.770000e+12</td>\n",
       "      <td>NaN</td>\n",
       "      <td>NaN</td>\n",
       "      <td>Ghaziabad</td>\n",
       "      <td>Uttar Pradesh</td>\n",
       "      <td>0</td>\n",
       "      <td>0.00</td>\n",
       "      <td>0.00</td>\n",
       "      <td>0.0</td>\n",
       "      <td>0.00</td>\n",
       "      <td>0</td>\n",
       "      <td>0</td>\n",
       "      <td>0</td>\n",
       "      <td>0.00</td>\n",
       "      <td>0.00</td>\n",
       "      <td>0</td>\n",
       "    </tr>\n",
       "  </tbody>\n",
       "</table>\n",
       "</div>"
      ],
      "text/plain": [
       "         day   customer_id               product_type  \\\n",
       "0 2022-01-01  5.440000e+12  Maternity and Nursing Top   \n",
       "1 2022-01-01  5.730000e+12                   Baby Oil   \n",
       "2 2022-01-01  5.730000e+12                        NaN   \n",
       "3 2022-01-01  5.730000e+12       Baby Anti-Slip Socks   \n",
       "4 2022-01-01  5.770000e+12                        NaN   \n",
       "\n",
       "                                       product_title shipping_city  \\\n",
       "0  Rose Melange Maternity and Feeding Sweatshirt ...       Panipat   \n",
       "1  100% Natural Cold Pressed Virgin Coconut Oil f...       Gurgaon   \n",
       "2                                                NaN       Gurgaon   \n",
       "3  Socks with a Soul Combo - Baby Polar Bear & Sw...       Gurgaon   \n",
       "4                                                NaN     Ghaziabad   \n",
       "\n",
       "  shipping_region  orders  gross_sales  discounts  returns  net_sales  \\\n",
       "0         Haryana       1      1439.83    -316.76      0.0    1123.07   \n",
       "1         Haryana       1       422.03     -42.20      0.0     379.83   \n",
       "2         Haryana       0         0.00       0.00      0.0       0.00   \n",
       "3         Haryana       1       677.12     -67.71      0.0     609.41   \n",
       "4   Uttar Pradesh       0         0.00       0.00      0.0       0.00   \n",
       "\n",
       "   shipping  duties  additional_fees   taxes  total_sales  \\\n",
       "0         0       0                0  202.15      1325.22   \n",
       "1         0       0                0   68.37       448.20   \n",
       "2         0       0                0    0.00         0.00   \n",
       "3         0       0                0  109.69       719.10   \n",
       "4         0       0                0    0.00         0.00   \n",
       "\n",
       "   ordered_item_quantity  \n",
       "0                      1  \n",
       "1                      1  \n",
       "2                      0  \n",
       "3                      1  \n",
       "4                      0  "
      ]
     },
     "execution_count": 3,
     "metadata": {},
     "output_type": "execute_result"
    }
   ],
   "source": [
    "# To view data\n",
    "df.head()"
   ]
  },
  {
   "cell_type": "markdown",
   "id": "35d87131",
   "metadata": {},
   "source": [
    "## Data cleaning for better analysis"
   ]
  },
  {
   "cell_type": "code",
   "execution_count": 4,
   "id": "db045a93",
   "metadata": {},
   "outputs": [
    {
     "data": {
      "text/plain": [
       "day                          0\n",
       "customer_id                  0\n",
       "product_type             33036\n",
       "product_title            30698\n",
       "shipping_city              193\n",
       "shipping_region            408\n",
       "orders                       0\n",
       "gross_sales                  0\n",
       "discounts                    0\n",
       "returns                      0\n",
       "net_sales                    0\n",
       "shipping                     0\n",
       "duties                       0\n",
       "additional_fees              0\n",
       "taxes                        0\n",
       "total_sales                  0\n",
       "ordered_item_quantity        0\n",
       "dtype: int64"
      ]
     },
     "execution_count": 4,
     "metadata": {},
     "output_type": "execute_result"
    }
   ],
   "source": [
    "df.isnull().sum()"
   ]
  },
  {
   "cell_type": "code",
   "execution_count": 5,
   "id": "c41c703e",
   "metadata": {},
   "outputs": [],
   "source": [
    "# net_sales column should not be less than zero\n",
    "df1=df[df['net_sales']>0]\n",
    "df1=df1[df1['gross_sales']>0]"
   ]
  },
  {
   "cell_type": "code",
   "execution_count": 6,
   "id": "2d672c64",
   "metadata": {},
   "outputs": [],
   "source": [
    "df1['orders'].replace(to_replace=0,value=1,inplace=True)"
   ]
  },
  {
   "cell_type": "code",
   "execution_count": 7,
   "id": "6eb579f0",
   "metadata": {},
   "outputs": [],
   "source": [
    "df1['ordered_item_quantity'].replace(to_replace=0,value=1,inplace=True)"
   ]
  },
  {
   "cell_type": "code",
   "execution_count": 8,
   "id": "4f08c5ef",
   "metadata": {},
   "outputs": [],
   "source": [
    "df1['product_title'].fillna(value='unknown_product_title',inplace=True)"
   ]
  },
  {
   "cell_type": "code",
   "execution_count": 9,
   "id": "f81d7bb9",
   "metadata": {},
   "outputs": [],
   "source": [
    "df1['product_type'].fillna(value='unknown_product_type',inplace=True)"
   ]
  },
  {
   "cell_type": "code",
   "execution_count": 10,
   "id": "67493042",
   "metadata": {},
   "outputs": [],
   "source": [
    "df1['shipping_city'].fillna(value='unknown_shipping_city',inplace=True)"
   ]
  },
  {
   "cell_type": "code",
   "execution_count": 11,
   "id": "6f19feac",
   "metadata": {},
   "outputs": [],
   "source": [
    "df1['shipping_region'].fillna(value='unknown_shipping_region',inplace=True)"
   ]
  },
  {
   "cell_type": "code",
   "execution_count": 12,
   "id": "685953c5",
   "metadata": {},
   "outputs": [
    {
     "data": {
      "text/html": [
       "<div>\n",
       "<style scoped>\n",
       "    .dataframe tbody tr th:only-of-type {\n",
       "        vertical-align: middle;\n",
       "    }\n",
       "\n",
       "    .dataframe tbody tr th {\n",
       "        vertical-align: top;\n",
       "    }\n",
       "\n",
       "    .dataframe thead th {\n",
       "        text-align: right;\n",
       "    }\n",
       "</style>\n",
       "<table border=\"1\" class=\"dataframe\">\n",
       "  <thead>\n",
       "    <tr style=\"text-align: right;\">\n",
       "      <th></th>\n",
       "      <th>day</th>\n",
       "      <th>customer_id</th>\n",
       "      <th>product_type</th>\n",
       "      <th>product_title</th>\n",
       "      <th>shipping_city</th>\n",
       "      <th>shipping_region</th>\n",
       "      <th>orders</th>\n",
       "      <th>gross_sales</th>\n",
       "      <th>discounts</th>\n",
       "      <th>returns</th>\n",
       "      <th>net_sales</th>\n",
       "      <th>shipping</th>\n",
       "      <th>duties</th>\n",
       "      <th>additional_fees</th>\n",
       "      <th>taxes</th>\n",
       "      <th>total_sales</th>\n",
       "      <th>ordered_item_quantity</th>\n",
       "    </tr>\n",
       "  </thead>\n",
       "  <tbody>\n",
       "    <tr>\n",
       "      <th>0</th>\n",
       "      <td>2022-01-01</td>\n",
       "      <td>5.440000e+12</td>\n",
       "      <td>Maternity and Nursing Top</td>\n",
       "      <td>Rose Melange Maternity and Feeding Sweatshirt ...</td>\n",
       "      <td>Panipat</td>\n",
       "      <td>Haryana</td>\n",
       "      <td>1</td>\n",
       "      <td>1439.83</td>\n",
       "      <td>-316.76</td>\n",
       "      <td>0.0</td>\n",
       "      <td>1123.07</td>\n",
       "      <td>0</td>\n",
       "      <td>0</td>\n",
       "      <td>0</td>\n",
       "      <td>202.15</td>\n",
       "      <td>1325.22</td>\n",
       "      <td>1</td>\n",
       "    </tr>\n",
       "    <tr>\n",
       "      <th>1</th>\n",
       "      <td>2022-01-01</td>\n",
       "      <td>5.730000e+12</td>\n",
       "      <td>Baby Oil</td>\n",
       "      <td>100% Natural Cold Pressed Virgin Coconut Oil f...</td>\n",
       "      <td>Gurgaon</td>\n",
       "      <td>Haryana</td>\n",
       "      <td>1</td>\n",
       "      <td>422.03</td>\n",
       "      <td>-42.20</td>\n",
       "      <td>0.0</td>\n",
       "      <td>379.83</td>\n",
       "      <td>0</td>\n",
       "      <td>0</td>\n",
       "      <td>0</td>\n",
       "      <td>68.37</td>\n",
       "      <td>448.20</td>\n",
       "      <td>1</td>\n",
       "    </tr>\n",
       "    <tr>\n",
       "      <th>3</th>\n",
       "      <td>2022-01-01</td>\n",
       "      <td>5.730000e+12</td>\n",
       "      <td>Baby Anti-Slip Socks</td>\n",
       "      <td>Socks with a Soul Combo - Baby Polar Bear &amp; Sw...</td>\n",
       "      <td>Gurgaon</td>\n",
       "      <td>Haryana</td>\n",
       "      <td>1</td>\n",
       "      <td>677.12</td>\n",
       "      <td>-67.71</td>\n",
       "      <td>0.0</td>\n",
       "      <td>609.41</td>\n",
       "      <td>0</td>\n",
       "      <td>0</td>\n",
       "      <td>0</td>\n",
       "      <td>109.69</td>\n",
       "      <td>719.10</td>\n",
       "      <td>1</td>\n",
       "    </tr>\n",
       "    <tr>\n",
       "      <th>5</th>\n",
       "      <td>2022-01-01</td>\n",
       "      <td>5.770000e+12</td>\n",
       "      <td>Maternity and Nursing Top</td>\n",
       "      <td>Candy Floss Maternity and Nursing Hoodie Sweat...</td>\n",
       "      <td>Ghaziabad</td>\n",
       "      <td>Uttar Pradesh</td>\n",
       "      <td>1</td>\n",
       "      <td>1524.58</td>\n",
       "      <td>0.00</td>\n",
       "      <td>0.0</td>\n",
       "      <td>1524.58</td>\n",
       "      <td>0</td>\n",
       "      <td>0</td>\n",
       "      <td>0</td>\n",
       "      <td>274.42</td>\n",
       "      <td>1799.00</td>\n",
       "      <td>1</td>\n",
       "    </tr>\n",
       "    <tr>\n",
       "      <th>7</th>\n",
       "      <td>2022-01-01</td>\n",
       "      <td>5.770000e+12</td>\n",
       "      <td>Twinning Combo</td>\n",
       "      <td>Shark-Tales Matching Family T Shirts Set of 3</td>\n",
       "      <td>Mumbai</td>\n",
       "      <td>Maharashtra</td>\n",
       "      <td>1</td>\n",
       "      <td>1355.08</td>\n",
       "      <td>-135.50</td>\n",
       "      <td>0.0</td>\n",
       "      <td>1219.58</td>\n",
       "      <td>0</td>\n",
       "      <td>0</td>\n",
       "      <td>0</td>\n",
       "      <td>219.52</td>\n",
       "      <td>1439.10</td>\n",
       "      <td>1</td>\n",
       "    </tr>\n",
       "  </tbody>\n",
       "</table>\n",
       "</div>"
      ],
      "text/plain": [
       "         day   customer_id               product_type  \\\n",
       "0 2022-01-01  5.440000e+12  Maternity and Nursing Top   \n",
       "1 2022-01-01  5.730000e+12                   Baby Oil   \n",
       "3 2022-01-01  5.730000e+12       Baby Anti-Slip Socks   \n",
       "5 2022-01-01  5.770000e+12  Maternity and Nursing Top   \n",
       "7 2022-01-01  5.770000e+12             Twinning Combo   \n",
       "\n",
       "                                       product_title shipping_city  \\\n",
       "0  Rose Melange Maternity and Feeding Sweatshirt ...       Panipat   \n",
       "1  100% Natural Cold Pressed Virgin Coconut Oil f...       Gurgaon   \n",
       "3  Socks with a Soul Combo - Baby Polar Bear & Sw...       Gurgaon   \n",
       "5  Candy Floss Maternity and Nursing Hoodie Sweat...     Ghaziabad   \n",
       "7      Shark-Tales Matching Family T Shirts Set of 3        Mumbai   \n",
       "\n",
       "  shipping_region  orders  gross_sales  discounts  returns  net_sales  \\\n",
       "0         Haryana       1      1439.83    -316.76      0.0    1123.07   \n",
       "1         Haryana       1       422.03     -42.20      0.0     379.83   \n",
       "3         Haryana       1       677.12     -67.71      0.0     609.41   \n",
       "5   Uttar Pradesh       1      1524.58       0.00      0.0    1524.58   \n",
       "7     Maharashtra       1      1355.08    -135.50      0.0    1219.58   \n",
       "\n",
       "   shipping  duties  additional_fees   taxes  total_sales  \\\n",
       "0         0       0                0  202.15      1325.22   \n",
       "1         0       0                0   68.37       448.20   \n",
       "3         0       0                0  109.69       719.10   \n",
       "5         0       0                0  274.42      1799.00   \n",
       "7         0       0                0  219.52      1439.10   \n",
       "\n",
       "   ordered_item_quantity  \n",
       "0                      1  \n",
       "1                      1  \n",
       "3                      1  \n",
       "5                      1  \n",
       "7                      1  "
      ]
     },
     "execution_count": 12,
     "metadata": {},
     "output_type": "execute_result"
    }
   ],
   "source": [
    "#Final dataset for analysis\n",
    "df1.head()"
   ]
  },
  {
   "cell_type": "code",
   "execution_count": null,
   "id": "012713ef",
   "metadata": {},
   "outputs": [],
   "source": [
    "# Customer id is not a unique"
   ]
  },
  {
   "cell_type": "markdown",
   "id": "5034dd1f",
   "metadata": {},
   "source": [
    "## Analysis by time"
   ]
  },
  {
   "cell_type": "code",
   "execution_count": 13,
   "id": "42ef7628",
   "metadata": {},
   "outputs": [],
   "source": [
    "# Need to extract some more columns from date\n",
    "df1['year']=df1['day'].dt.year\n",
    "df1['month']=df1['day'].dt.month_name()\n",
    "df1['day_name']=df1['day'].dt.day_name()\n",
    "df1['month_year']=df1['day'].apply(lambda x:x.strftime('%m - %y'))"
   ]
  },
  {
   "cell_type": "code",
   "execution_count": 14,
   "id": "819d368c",
   "metadata": {},
   "outputs": [
    {
     "name": "stdout",
     "output_type": "stream",
     "text": [
      "start_date 2022-01-01 00:00:00 end_date 2023-01-01 00:00:00\n"
     ]
    }
   ],
   "source": [
    "# The given dataset date range between \n",
    "\n",
    "print('start_date',min(df1['day']),'end_date',max(df1['day']))"
   ]
  },
  {
   "cell_type": "code",
   "execution_count": 15,
   "id": "f8f6096e",
   "metadata": {},
   "outputs": [
    {
     "data": {
      "image/png": "[encoded data removed]",
      "text/plain": [
       "<Figure size 1080x432 with 1 Axes>"
      ]
     },
     "metadata": {
      "needs_background": "light"
     },
     "output_type": "display_data"
    }
   ],
   "source": [
    "plt.figure(figsize=[15,6])\n",
    "sns.lineplot(x=df1['month_year'],y=df1['net_sales'])\n",
    "plt.savefig('upgrad_overall_sales_trend.jpeg')\n",
    "plt.show()\n"
   ]
  },
  {
   "cell_type": "markdown",
   "id": "fe20d48b",
   "metadata": {},
   "source": [
    "# Overall sales Trend\n",
    "* After Nov-2022 sales are dropping"
   ]
  },
  {
   "cell_type": "code",
   "execution_count": 16,
   "id": "2dd02673",
   "metadata": {},
   "outputs": [
    {
     "data": {
      "image/png": "[encoded data removed]",
      "text/plain": [
       "<Figure size 432x288 with 1 Axes>"
      ]
     },
     "metadata": {
      "needs_background": "light"
     },
     "output_type": "display_data"
    },
    {
     "data": {
      "text/plain": [
       "2022    48457\n",
       "2023       90\n",
       "Name: year, dtype: int64"
      ]
     },
     "execution_count": 16,
     "metadata": {},
     "output_type": "execute_result"
    }
   ],
   "source": [
    "sns.countplot(data=df1,x='year')\n",
    "plt.savefig('upgrad_year.jpeg')\n",
    "plt.show()\n",
    "df1['year'].value_counts()"
   ]
  },
  {
   "cell_type": "markdown",
   "id": "9aee2c5e",
   "metadata": {},
   "source": [
    "* 99% of data shows 2022 sales only"
   ]
  },
  {
   "cell_type": "code",
   "execution_count": 248,
   "id": "2d019bb6",
   "metadata": {},
   "outputs": [
    {
     "data": {
      "image/png": "[encoded data removed]",
      "text/plain": [
       "<Figure size 1080x288 with 1 Axes>"
      ]
     },
     "metadata": {
      "needs_background": "light"
     },
     "output_type": "display_data"
    }
   ],
   "source": [
    "plt.figure(figsize=[15,4])\n",
    "sns.countplot(data=df1,x='month')\n",
    "plt.savefig('upgrad_month.jpeg')\n",
    "plt.show()"
   ]
  },
  {
   "cell_type": "markdown",
   "id": "98618574",
   "metadata": {},
   "source": [
    "# Month wise Analysis\n",
    "* Almost all months sales are same"
   ]
  },
  {
   "cell_type": "code",
   "execution_count": 249,
   "id": "82e1b8a6",
   "metadata": {},
   "outputs": [
    {
     "data": {
      "image/png": "[encoded data removed]",
      "text/plain": [
       "<Figure size 1080x288 with 1 Axes>"
      ]
     },
     "metadata": {
      "needs_background": "light"
     },
     "output_type": "display_data"
    }
   ],
   "source": [
    "plt.figure(figsize=[15,4])\n",
    "sns.countplot(data=df1,x='day_name')\n",
    "plt.savefig('upgrad_day.jpeg')\n",
    "plt.show()"
   ]
  },
  {
   "cell_type": "markdown",
   "id": "370fdf0d",
   "metadata": {},
   "source": [
    "* Almost same sales happened in all day"
   ]
  },
  {
   "cell_type": "code",
   "execution_count": 19,
   "id": "9566502f",
   "metadata": {},
   "outputs": [
    {
     "data": {
      "text/plain": [
       "Maharashtra                    7879\n",
       "Karnataka                      7440\n",
       "Delhi                          4168\n",
       "Tamil Nadu                     4100\n",
       "Uttar Pradesh                  3173\n",
       "Haryana                        2922\n",
       "Telangana                      2861\n",
       "Gujarat                        2053\n",
       "Kerala                         1633\n",
       "West Bengal                    1487\n",
       "Punjab                         1378\n",
       "Andhra Pradesh                 1258\n",
       "Rajasthan                      1097\n",
       "Madhya Pradesh                  938\n",
       "Jammu And Kashmir               709\n",
       "Assam                           671\n",
       "Bihar                           528\n",
       "Odisha                          508\n",
       "Chhattisgarh                    470\n",
       "Uttarakhand                     454\n",
       "Jharkhand                       407\n",
       "Goa                             317\n",
       "Chandigarh                      292\n",
       "Arunachal Pradesh               259\n",
       "Himachal Pradesh                246\n",
       "Meghalaya                       199\n",
       "Sikkim                          170\n",
       "Nagaland                        149\n",
       "Manipur                         139\n",
       "unknown_shipping_region         134\n",
       "Puducherry                       89\n",
       "Mizoram                          78\n",
       "Tripura                          59\n",
       "Arizona                          44\n",
       "California                       26\n",
       "Dadra And Nagar Haveli           24\n",
       "New South Wales                  21\n",
       "England                          21\n",
       "New Jersey                       20\n",
       "Ontario                          19\n",
       "Andaman And Nicobar Islands      19\n",
       "Western Australia                16\n",
       "Daman And Diu                    14\n",
       "Auckland                         13\n",
       "Dubai                             9\n",
       "Selangor                          8\n",
       "Florida                           4\n",
       "Milano                            4\n",
       "Indiana                           4\n",
       "Victoria                          3\n",
       "Virginia                          3\n",
       "Washington                        2\n",
       "Alberta                           1\n",
       "Tennessee                         1\n",
       "Illinois                          1\n",
       "North Carolina                    1\n",
       "Abu Dhabi                         1\n",
       "Gauteng                           1\n",
       "British Columbia                  1\n",
       "Texas                             1\n",
       "Name: shipping_region, dtype: int64"
      ]
     },
     "execution_count": 19,
     "metadata": {},
     "output_type": "execute_result"
    }
   ],
   "source": [
    "# Place wise analysis\n",
    "\n",
    "sh_re=df1['shipping_region'].value_counts()\n",
    "sh_re.to_clipboard()\n",
    "sh_re"
   ]
  },
  {
   "cell_type": "markdown",
   "id": "7fc616d1",
   "metadata": {},
   "source": [
    "## Shipping Region frequencies"
   ]
  },
  {
   "cell_type": "code",
   "execution_count": 70,
   "id": "3d36530b",
   "metadata": {},
   "outputs": [
    {
     "data": {
      "text/plain": [
       "Maharashtra      7879\n",
       "Karnataka        7440\n",
       "Delhi            4168\n",
       "Tamil Nadu       4100\n",
       "Uttar Pradesh    3173\n",
       "Haryana          2922\n",
       "Telangana        2861\n",
       "Gujarat          2053\n",
       "Kerala           1633\n",
       "West Bengal      1487\n",
       "Name: shipping_region, dtype: int64"
      ]
     },
     "execution_count": 70,
     "metadata": {},
     "output_type": "execute_result"
    }
   ],
   "source": [
    "sh_re.iloc[0:10]"
   ]
  },
  {
   "cell_type": "markdown",
   "id": "88a846d7",
   "metadata": {},
   "source": [
    "## Most frequent shipping region"
   ]
  },
  {
   "cell_type": "code",
   "execution_count": 75,
   "id": "c8c2772f",
   "metadata": {},
   "outputs": [
    {
     "data": {
      "text/plain": [
       "Texas               1\n",
       "Alberta             1\n",
       "Tennessee           1\n",
       "Illinois            1\n",
       "British Columbia    1\n",
       "Abu Dhabi           1\n",
       "Gauteng             1\n",
       "North Carolina      1\n",
       "Washington          2\n",
       "Virginia            3\n",
       "Victoria            3\n",
       "Indiana             4\n",
       "Milano              4\n",
       "Florida             4\n",
       "Selangor            8\n",
       "Dubai               9\n",
       "Name: shipping_region, dtype: int64"
      ]
     },
     "execution_count": 75,
     "metadata": {},
     "output_type": "execute_result"
    }
   ],
   "source": [
    "sh_re.sort_values().iloc[0:16]"
   ]
  },
  {
   "cell_type": "markdown",
   "id": "81e6cf82",
   "metadata": {},
   "source": [
    "## Less frequent shipping regions"
   ]
  },
  {
   "cell_type": "code",
   "execution_count": 21,
   "id": "1d4a51ad",
   "metadata": {},
   "outputs": [
    {
     "data": {
      "text/plain": [
       "Mumbai           3475\n",
       "Bengaluru        3310\n",
       "Bangalore        2345\n",
       "New Delhi        2308\n",
       "Hyderabad        2034\n",
       "                 ... \n",
       "Kukatpally          1\n",
       "Gujrat              1\n",
       "Jhumriteliaya       1\n",
       "Anakapalli          1\n",
       "Ner Chowk           1\n",
       "Name: shipping_city, Length: 3823, dtype: int64"
      ]
     },
     "execution_count": 21,
     "metadata": {},
     "output_type": "execute_result"
    }
   ],
   "source": [
    "sh_ci=df1['shipping_city'].value_counts()\n",
    "sh_ci"
   ]
  },
  {
   "cell_type": "code",
   "execution_count": 23,
   "id": "09a64e4d",
   "metadata": {},
   "outputs": [
    {
     "data": {
      "text/plain": [
       "Mumbai       3475\n",
       "Bengaluru    3310\n",
       "Bangalore    2345\n",
       "New Delhi    2308\n",
       "Hyderabad    2034\n",
       "Chennai      1895\n",
       "Delhi        1652\n",
       "Pune         1590\n",
       "Kolkata       971\n",
       "Gurugram      954\n",
       "Name: shipping_city, dtype: int64"
      ]
     },
     "execution_count": 23,
     "metadata": {},
     "output_type": "execute_result"
    }
   ],
   "source": [
    "sh_ci.iloc[0:10].to_clipboard()\n",
    "sh_ci.iloc[0:10]\n",
    "\n"
   ]
  },
  {
   "cell_type": "markdown",
   "id": "8ec88dab",
   "metadata": {},
   "source": [
    "## Most frequent shipping cities"
   ]
  },
  {
   "cell_type": "code",
   "execution_count": 24,
   "id": "c872c47a",
   "metadata": {},
   "outputs": [
    {
     "data": {
      "text/plain": [
       "Ner Chowk           1\n",
       "Marhaura            1\n",
       "Nokha               1\n",
       "Ambarnath           1\n",
       "New Delni           1\n",
       "                   ..\n",
       "Tellapur            1\n",
       "Andhra Pradesh      1\n",
       "Lakhanpur Ladpur    1\n",
       "Verinag             1\n",
       "Udhawa              1\n",
       "Name: shipping_city, Length: 1736, dtype: int64"
      ]
     },
     "execution_count": 24,
     "metadata": {},
     "output_type": "execute_result"
    }
   ],
   "source": [
    "sh_ci.sort_values().iloc[0:1736].to_clipboard()\n",
    "sh_ci.sort_values().iloc[0:1736]"
   ]
  },
  {
   "cell_type": "markdown",
   "id": "9abf8af0",
   "metadata": {},
   "source": [
    "## 45% of cities having 1 order "
   ]
  },
  {
   "cell_type": "code",
   "execution_count": 116,
   "id": "a12d4226",
   "metadata": {},
   "outputs": [
    {
     "data": {
      "text/plain": [
       "shipping_region\n",
       "Maharashtra                    8401033.18\n",
       "Karnataka                      7630682.08\n",
       "Delhi                          4774426.49\n",
       "Tamil Nadu                     4373033.63\n",
       "Uttar Pradesh                  3445249.92\n",
       "Haryana                        3296493.60\n",
       "Telangana                      2928323.22\n",
       "Gujarat                        2073110.13\n",
       "Kerala                         1657012.74\n",
       "West Bengal                    1522568.30\n",
       "Punjab                         1510665.01\n",
       "Andhra Pradesh                 1225067.61\n",
       "Rajasthan                      1121045.69\n",
       "Madhya Pradesh                  965062.11\n",
       "Jammu And Kashmir               872236.67\n",
       "Assam                           690643.52\n",
       "Bihar                           559162.87\n",
       "Chhattisgarh                    535252.95\n",
       "Odisha                          513185.49\n",
       "Uttarakhand                     466261.73\n",
       "Jharkhand                       436867.46\n",
       "Chandigarh                      332192.91\n",
       "Goa                             319453.48\n",
       "Arunachal Pradesh               308317.30\n",
       "Himachal Pradesh                248929.65\n",
       "Sikkim                          225399.08\n",
       "Meghalaya                       214760.06\n",
       "Manipur                         174807.69\n",
       "Nagaland                        169083.89\n",
       "unknown_shipping_region         155266.01\n",
       "Puducherry                      119531.64\n",
       "Mizoram                          71350.35\n",
       "Tripura                          65483.78\n",
       "Arizona                          61174.96\n",
       "New South Wales                  43560.60\n",
       "England                          40785.67\n",
       "California                       35015.60\n",
       "Ontario                          23114.21\n",
       "Western Australia                21277.74\n",
       "Dadra And Nagar Haveli           19161.48\n",
       "New Jersey                       18380.86\n",
       "Auckland                         18013.86\n",
       "Daman And Diu                    16331.32\n",
       "Andaman And Nicobar Islands      16000.38\n",
       "Dubai                            14360.20\n",
       "Selangor                          7045.12\n",
       "Florida                           6476.40\n",
       "Indiana                           6396.00\n",
       "Milano                            4179.00\n",
       "Virginia                          3745.00\n",
       "Victoria                          3037.60\n",
       "Texas                             2599.00\n",
       "Illinois                          2499.00\n",
       "Gauteng                           2199.00\n",
       "North Carolina                    1999.00\n",
       "Abu Dhabi                         1759.12\n",
       "Tennessee                         1599.00\n",
       "Washington                        1350.80\n",
       "Alberta                           1143.12\n",
       "British Columbia                   999.00\n",
       "Name: net_sales, dtype: float64"
      ]
     },
     "execution_count": 116,
     "metadata": {},
     "output_type": "execute_result"
    }
   ],
   "source": [
    "region_sales=df1.groupby('shipping_region').sum()['net_sales'].sort_values(ascending=False)\n",
    "region_sales"
   ]
  },
  {
   "cell_type": "markdown",
   "id": "52d9698f",
   "metadata": {},
   "source": [
    "## Region wise net sales report"
   ]
  },
  {
   "cell_type": "code",
   "execution_count": 252,
   "id": "8dcb05e5",
   "metadata": {},
   "outputs": [
    {
     "data": {
      "image/png": "[encoded data removed]",
      "text/plain": [
       "<Figure size 1080x360 with 1 Axes>"
      ]
     },
     "metadata": {
      "needs_background": "light"
     },
     "output_type": "display_data"
    }
   ],
   "source": [
    "plt.figure(figsize=[15,5])\n",
    "sns.barplot(data=region_sales.reset_index().iloc[0:10],x='shipping_region',y='net_sales')\n",
    "plt.savefig('upgrad_Top 10 regions net_sales wise.jpeg')\n",
    "plt.show()"
   ]
  },
  {
   "cell_type": "markdown",
   "id": "054cacb7",
   "metadata": {},
   "source": [
    "## Top 10 regions net_sales wise"
   ]
  },
  {
   "cell_type": "code",
   "execution_count": 253,
   "id": "95ce28c4",
   "metadata": {},
   "outputs": [
    {
     "data": {
      "image/png": "[encoded data removed]",
      "text/plain": [
       "<Figure size 1080x360 with 1 Axes>"
      ]
     },
     "metadata": {
      "needs_background": "light"
     },
     "output_type": "display_data"
    }
   ],
   "source": [
    "plt.figure(figsize=[15,5])\n",
    "sns.barplot(data=region_sales.sort_values().reset_index().iloc[0:10],x='shipping_region',y='net_sales')\n",
    "plt.savefig('upgrad_least 10 regions net_sales wise.jpeg')\n",
    "plt.show()"
   ]
  },
  {
   "cell_type": "markdown",
   "id": "e550c772",
   "metadata": {},
   "source": [
    "## least 10 regions  net_sales wise"
   ]
  },
  {
   "cell_type": "code",
   "execution_count": 134,
   "id": "4ce36ecb",
   "metadata": {},
   "outputs": [
    {
     "data": {
      "text/plain": [
       "shipping_region\n",
       "Maharashtra                    8332\n",
       "Karnataka                      8065\n",
       "Delhi                          4407\n",
       "Tamil Nadu                     4287\n",
       "Uttar Pradesh                  3319\n",
       "Haryana                        3097\n",
       "Telangana                      3001\n",
       "Gujarat                        2153\n",
       "Kerala                         1693\n",
       "West Bengal                    1561\n",
       "Punjab                         1428\n",
       "Andhra Pradesh                 1325\n",
       "Rajasthan                      1140\n",
       "Madhya Pradesh                  975\n",
       "Jammu And Kashmir               744\n",
       "Assam                           697\n",
       "Bihar                           569\n",
       "Odisha                          543\n",
       "Chhattisgarh                    492\n",
       "Uttarakhand                     472\n",
       "Jharkhand                       420\n",
       "Goa                             340\n",
       "Chandigarh                      312\n",
       "Arunachal Pradesh               271\n",
       "Himachal Pradesh                253\n",
       "Meghalaya                       207\n",
       "Sikkim                          173\n",
       "Nagaland                        151\n",
       "Manipur                         142\n",
       "unknown_shipping_region         142\n",
       "Puducherry                       93\n",
       "Mizoram                          79\n",
       "Tripura                          61\n",
       "Arizona                          44\n",
       "Dadra And Nagar Haveli           30\n",
       "California                       26\n",
       "Andaman And Nicobar Islands      23\n",
       "Auckland                         22\n",
       "England                          22\n",
       "New South Wales                  21\n",
       "New Jersey                       20\n",
       "Ontario                          19\n",
       "Western Australia                18\n",
       "Daman And Diu                    15\n",
       "Dubai                            11\n",
       "Selangor                          8\n",
       "Indiana                           4\n",
       "Florida                           4\n",
       "Milano                            4\n",
       "Virginia                          3\n",
       "Victoria                          3\n",
       "Washington                        2\n",
       "Alberta                           1\n",
       "Texas                             1\n",
       "Tennessee                         1\n",
       "British Columbia                  1\n",
       "North Carolina                    1\n",
       "Gauteng                           1\n",
       "Illinois                          1\n",
       "Abu Dhabi                         1\n",
       "Name: ordered_item_quantity, dtype: int64"
      ]
     },
     "execution_count": 134,
     "metadata": {},
     "output_type": "execute_result"
    }
   ],
   "source": [
    "region_orders=df1.groupby('shipping_region').sum()['ordered_item_quantity'].sort_values(ascending=False)\n",
    "region_orders"
   ]
  },
  {
   "cell_type": "markdown",
   "id": "9ec6ef2c",
   "metadata": {},
   "source": [
    "## Regions list by ordered quantity wise"
   ]
  },
  {
   "cell_type": "code",
   "execution_count": 254,
   "id": "63becc4a",
   "metadata": {},
   "outputs": [
    {
     "data": {
      "image/png": "[encoded data removed]",
      "text/plain": [
       "<Figure size 1152x288 with 1 Axes>"
      ]
     },
     "metadata": {
      "needs_background": "light"
     },
     "output_type": "display_data"
    }
   ],
   "source": [
    "plt.figure(figsize=[16,4])\n",
    "sns.barplot(data=region_orders.reset_index().iloc[0:10],x='shipping_region',y='ordered_item_quantity')\n",
    "plt.savefig('upgrad_Top 10 regions by ordered quantity.jpeg')\n",
    "plt.show()"
   ]
  },
  {
   "cell_type": "markdown",
   "id": "f992224e",
   "metadata": {},
   "source": [
    "## Top 10 regions by ordered quantity"
   ]
  },
  {
   "cell_type": "code",
   "execution_count": 25,
   "id": "d8ca1710",
   "metadata": {},
   "outputs": [
    {
     "data": {
      "text/plain": [
       "shipping_region\n",
       "Puducherry                     241.748315\n",
       "Sikkim                         238.657588\n",
       "Manipur                        226.368993\n",
       "Jammu And Kashmir              221.442087\n",
       "Arunachal Pradesh              214.274093\n",
       "Daman And Diu                  209.974286\n",
       "Delhi                          206.189055\n",
       "Chhattisgarh                   204.989979\n",
       "Chandigarh                     204.776473\n",
       "Nagaland                       204.261946\n",
       "Haryana                        203.069189\n",
       "Tripura                        199.780508\n",
       "Punjab                         197.211640\n",
       "Karnataka                      195.777091\n",
       "Uttar Pradesh                  195.335065\n",
       "Meghalaya                      194.254925\n",
       "Jharkhand                      193.208673\n",
       "Tamil Nadu                     191.939829\n",
       "Maharashtra                    191.857368\n",
       "Bihar                          190.623466\n",
       "Assam                          185.269180\n",
       "Uttarakhand                    184.861167\n",
       "Madhya Pradesh                 184.793817\n",
       "West Bengal                    184.290370\n",
       "Telangana                      184.203869\n",
       "Rajasthan                      183.945214\n",
       "Kerala                         182.591390\n",
       "Himachal Pradesh               181.872073\n",
       "Odisha                         181.836870\n",
       "Gujarat                        181.550994\n",
       "Goa                            181.392587\n",
       "Andhra Pradesh                 175.287472\n",
       "Mizoram                        164.653846\n",
       "Andaman And Nicobar Islands    151.582632\n",
       "Dadra And Nagar Haveli         143.711667\n",
       "unknown_shipping_region         27.969403\n",
       "Milano                           0.000000\n",
       "New Jersey                       0.000000\n",
       "Western Australia                0.000000\n",
       "Arizona                          0.000000\n",
       "Washington                       0.000000\n",
       "Virginia                         0.000000\n",
       "Victoria                         0.000000\n",
       "Auckland                         0.000000\n",
       "British Columbia                 0.000000\n",
       "California                       0.000000\n",
       "Texas                            0.000000\n",
       "Tennessee                        0.000000\n",
       "Dubai                            0.000000\n",
       "England                          0.000000\n",
       "Florida                          0.000000\n",
       "Selangor                         0.000000\n",
       "Gauteng                          0.000000\n",
       "Illinois                         0.000000\n",
       "Indiana                          0.000000\n",
       "Ontario                          0.000000\n",
       "Alberta                          0.000000\n",
       "North Carolina                   0.000000\n",
       "New South Wales                  0.000000\n",
       "Abu Dhabi                        0.000000\n",
       "Name: taxes, dtype: float64"
      ]
     },
     "execution_count": 25,
     "metadata": {},
     "output_type": "execute_result"
    }
   ],
   "source": [
    "df1.groupby('shipping_region').mean()['taxes'].sort_values(ascending=False).to_clipboard()\n",
    "df1.groupby('shipping_region').mean()['taxes'].sort_values(ascending=False)"
   ]
  },
  {
   "cell_type": "markdown",
   "id": "545a3343",
   "metadata": {},
   "source": [
    "## Regions list by average tax wise"
   ]
  },
  {
   "cell_type": "code",
   "execution_count": 148,
   "id": "c2ff8415",
   "metadata": {},
   "outputs": [
    {
     "data": {
      "text/plain": [
       "301"
      ]
     },
     "execution_count": 148,
     "metadata": {},
     "output_type": "execute_result"
    }
   ],
   "source": [
    "df1['product_type'].nunique()"
   ]
  },
  {
   "cell_type": "code",
   "execution_count": 149,
   "id": "b18db0a7",
   "metadata": {},
   "outputs": [],
   "source": [
    "# Totally 301 different type of products selling by store"
   ]
  },
  {
   "cell_type": "code",
   "execution_count": 27,
   "id": "357ffedd",
   "metadata": {},
   "outputs": [
    {
     "data": {
      "text/plain": [
       "product_type\n",
       "Maternity Casual Dress    3161020.27\n",
       "Maternity Gown            2343084.76\n",
       "Twinning Tees             2296529.07\n",
       "Baby Pyjamas Set          2059686.78\n",
       "Maternity Ethnic Set      1923198.40\n",
       "                             ...    \n",
       "Raakhi                        298.57\n",
       "Baby Wash                     287.42\n",
       "Wellness                      202.72\n",
       "Toothpaste                    117.54\n",
       "Baby Mittens                   71.38\n",
       "Name: net_sales, Length: 301, dtype: float64"
      ]
     },
     "execution_count": 27,
     "metadata": {},
     "output_type": "execute_result"
    }
   ],
   "source": [
    "product_type_sales=df1.groupby('product_type').sum()['net_sales'].sort_values(ascending=False)\n",
    "product_type_sales.to_clipboard()\n",
    "product_type_sales"
   ]
  },
  {
   "cell_type": "markdown",
   "id": "794c9925",
   "metadata": {},
   "source": [
    "## product types list by net_sales"
   ]
  },
  {
   "cell_type": "code",
   "execution_count": 255,
   "id": "886fb0e1",
   "metadata": {},
   "outputs": [
    {
     "data": {
      "image/png": "[encoded data removed]",
      "text/plain": [
       "<Figure size 1080x432 with 1 Axes>"
      ]
     },
     "metadata": {
      "needs_background": "light"
     },
     "output_type": "display_data"
    }
   ],
   "source": [
    "plt.figure(figsize=[15,6])\n",
    "sns.barplot(data=product_type_sales.reset_index().iloc[0:10],x='product_type',y='net_sales')\n",
    "plt.xticks(rotation=90)\n",
    "plt.savefig('upgrad_Top 10 product types by net_sales.jpeg')\n",
    "plt.show()"
   ]
  },
  {
   "cell_type": "markdown",
   "id": "11477c41",
   "metadata": {},
   "source": [
    "## Top 10 product types by net_sales"
   ]
  },
  {
   "cell_type": "code",
   "execution_count": 256,
   "id": "1c843549",
   "metadata": {},
   "outputs": [
    {
     "data": {
      "image/png": "[encoded data removed]",
      "text/plain": [
       "<Figure size 1080x432 with 1 Axes>"
      ]
     },
     "metadata": {
      "needs_background": "light"
     },
     "output_type": "display_data"
    }
   ],
   "source": [
    "plt.figure(figsize=[15,6])\n",
    "sns.barplot(data=product_type_sales.reset_index().sort_values(by='net_sales',ascending=True).iloc[0:10],x='product_type',y='net_sales')\n",
    "plt.xticks(rotation=90)\n",
    "plt.savefig('upgrad_Least 10 product types by net_sales.jpeg')\n",
    "plt.show()"
   ]
  },
  {
   "cell_type": "markdown",
   "id": "007b671b",
   "metadata": {},
   "source": [
    "## Least 10 product types by net_sales"
   ]
  },
  {
   "cell_type": "code",
   "execution_count": 26,
   "id": "f323aecc",
   "metadata": {},
   "outputs": [
    {
     "data": {
      "text/plain": [
       "product_type\n",
       "Twinning Tees             5417\n",
       "Maternity Casual Dress    2522\n",
       "unknown_product_type      2508\n",
       "Baby Pyjamas Set          2325\n",
       "Maternity Bra             2152\n",
       "                          ... \n",
       "Table & Chair                1\n",
       "Diary                        1\n",
       "Tennis Set                   1\n",
       "Furniture                    1\n",
       "Super Seat                   1\n",
       "Name: ordered_item_quantity, Length: 301, dtype: int64"
      ]
     },
     "execution_count": 26,
     "metadata": {},
     "output_type": "execute_result"
    }
   ],
   "source": [
    "df1.groupby('product_type').sum()['ordered_item_quantity'].sort_values(ascending=False).to_clipboard()\n",
    "df1.groupby('product_type').sum()['ordered_item_quantity'].sort_values(ascending=False)"
   ]
  },
  {
   "cell_type": "markdown",
   "id": "5fd12a4c",
   "metadata": {},
   "source": [
    "## product types list with total ordered quantity"
   ]
  },
  {
   "cell_type": "code",
   "execution_count": 28,
   "id": "4728a60b",
   "metadata": {},
   "outputs": [
    {
     "data": {
      "text/html": [
       "<div>\n",
       "<style scoped>\n",
       "    .dataframe tbody tr th:only-of-type {\n",
       "        vertical-align: middle;\n",
       "    }\n",
       "\n",
       "    .dataframe tbody tr th {\n",
       "        vertical-align: top;\n",
       "    }\n",
       "\n",
       "    .dataframe thead th {\n",
       "        text-align: right;\n",
       "    }\n",
       "</style>\n",
       "<table border=\"1\" class=\"dataframe\">\n",
       "  <thead>\n",
       "    <tr style=\"text-align: right;\">\n",
       "      <th></th>\n",
       "      <th>product_type</th>\n",
       "      <th>discounts</th>\n",
       "    </tr>\n",
       "  </thead>\n",
       "  <tbody>\n",
       "    <tr>\n",
       "      <th>0</th>\n",
       "      <td>Maternity Casual Dress</td>\n",
       "      <td>-372981.31</td>\n",
       "    </tr>\n",
       "    <tr>\n",
       "      <th>1</th>\n",
       "      <td>Maternity Gown</td>\n",
       "      <td>-239683.65</td>\n",
       "    </tr>\n",
       "    <tr>\n",
       "      <th>2</th>\n",
       "      <td>Maternity Ethnic Set</td>\n",
       "      <td>-236668.26</td>\n",
       "    </tr>\n",
       "    <tr>\n",
       "      <th>3</th>\n",
       "      <td>Twinning Tees</td>\n",
       "      <td>-210719.73</td>\n",
       "    </tr>\n",
       "    <tr>\n",
       "      <th>4</th>\n",
       "      <td>Maternity Ethnic Wear</td>\n",
       "      <td>-206297.33</td>\n",
       "    </tr>\n",
       "    <tr>\n",
       "      <th>5</th>\n",
       "      <td>Gift Box</td>\n",
       "      <td>-197218.82</td>\n",
       "    </tr>\n",
       "    <tr>\n",
       "      <th>6</th>\n",
       "      <td>Baby Pyjamas Set</td>\n",
       "      <td>-184965.34</td>\n",
       "    </tr>\n",
       "    <tr>\n",
       "      <th>7</th>\n",
       "      <td>Maternity Nightwear Set</td>\n",
       "      <td>-181447.84</td>\n",
       "    </tr>\n",
       "    <tr>\n",
       "      <th>8</th>\n",
       "      <td>Maternity and Nursing Top</td>\n",
       "      <td>-180173.26</td>\n",
       "    </tr>\n",
       "    <tr>\n",
       "      <th>9</th>\n",
       "      <td>Baby Carrier</td>\n",
       "      <td>-174611.69</td>\n",
       "    </tr>\n",
       "    <tr>\n",
       "      <th>10</th>\n",
       "      <td>unknown_product_type</td>\n",
       "      <td>-135308.75</td>\n",
       "    </tr>\n",
       "    <tr>\n",
       "      <th>11</th>\n",
       "      <td>Maternity Leggings</td>\n",
       "      <td>-117136.45</td>\n",
       "    </tr>\n",
       "    <tr>\n",
       "      <th>12</th>\n",
       "      <td>Maternity Denims</td>\n",
       "      <td>-115887.67</td>\n",
       "    </tr>\n",
       "    <tr>\n",
       "      <th>13</th>\n",
       "      <td>Diaper Bags</td>\n",
       "      <td>-112076.17</td>\n",
       "    </tr>\n",
       "    <tr>\n",
       "      <th>14</th>\n",
       "      <td>Maternity Bra</td>\n",
       "      <td>-105709.95</td>\n",
       "    </tr>\n",
       "    <tr>\n",
       "      <th>15</th>\n",
       "      <td>Maternity Nightwear</td>\n",
       "      <td>-101204.74</td>\n",
       "    </tr>\n",
       "    <tr>\n",
       "      <th>16</th>\n",
       "      <td>Maternity Trackpants</td>\n",
       "      <td>-88315.83</td>\n",
       "    </tr>\n",
       "    <tr>\n",
       "      <th>17</th>\n",
       "      <td>Boys Pajama Kurta</td>\n",
       "      <td>-87126.73</td>\n",
       "    </tr>\n",
       "    <tr>\n",
       "      <th>18</th>\n",
       "      <td>Reusable Cloth Diaper</td>\n",
       "      <td>-72907.80</td>\n",
       "    </tr>\n",
       "    <tr>\n",
       "      <th>19</th>\n",
       "      <td>Girls Kurta Sharara</td>\n",
       "      <td>-67230.67</td>\n",
       "    </tr>\n",
       "  </tbody>\n",
       "</table>\n",
       "</div>"
      ],
      "text/plain": [
       "                 product_type  discounts\n",
       "0      Maternity Casual Dress -372981.31\n",
       "1              Maternity Gown -239683.65\n",
       "2        Maternity Ethnic Set -236668.26\n",
       "3               Twinning Tees -210719.73\n",
       "4       Maternity Ethnic Wear -206297.33\n",
       "5                    Gift Box -197218.82\n",
       "6            Baby Pyjamas Set -184965.34\n",
       "7     Maternity Nightwear Set -181447.84\n",
       "8   Maternity and Nursing Top -180173.26\n",
       "9                Baby Carrier -174611.69\n",
       "10       unknown_product_type -135308.75\n",
       "11         Maternity Leggings -117136.45\n",
       "12           Maternity Denims -115887.67\n",
       "13                Diaper Bags -112076.17\n",
       "14              Maternity Bra -105709.95\n",
       "15        Maternity Nightwear -101204.74\n",
       "16       Maternity Trackpants  -88315.83\n",
       "17          Boys Pajama Kurta  -87126.73\n",
       "18      Reusable Cloth Diaper  -72907.80\n",
       "19        Girls Kurta Sharara  -67230.67"
      ]
     },
     "execution_count": 28,
     "metadata": {},
     "output_type": "execute_result"
    }
   ],
   "source": [
    "df1.groupby('product_type').sum()['discounts'].sort_values(ascending=True).reset_index().to_clipboard()\n",
    "df1.groupby('product_type').sum()['discounts'].sort_values(ascending=True).reset_index().iloc[0:20]"
   ]
  },
  {
   "cell_type": "markdown",
   "id": "18a690e7",
   "metadata": {},
   "source": [
    "## Top 20 highest discount product types"
   ]
  },
  {
   "cell_type": "code",
   "execution_count": 257,
   "id": "705ce04a",
   "metadata": {},
   "outputs": [
    {
     "data": {
      "image/png": "[encoded data removed]",
      "text/plain": [
       "<Figure size 432x288 with 1 Axes>"
      ]
     },
     "metadata": {
      "needs_background": "light"
     },
     "output_type": "display_data"
    }
   ],
   "source": [
    "df2=df1[df1['discounts']!=0]\n",
    "sns.scatterplot(x=-df2.groupby('product_type').sum()['discounts'],y=df2.groupby('product_type').sum()['net_sales'])\n",
    "plt.savefig('upgrad_Discount increases accordingly product price.jpeg')\n",
    "plt.show()\n"
   ]
  },
  {
   "cell_type": "markdown",
   "id": "7ae3d0c4",
   "metadata": {},
   "source": [
    "## Discount increases accordingly product price"
   ]
  },
  {
   "cell_type": "code",
   "execution_count": 258,
   "id": "570a7414",
   "metadata": {},
   "outputs": [
    {
     "data": {
      "image/png": "[encoded data removed]",
      "text/plain": [
       "<Figure size 432x288 with 1 Axes>"
      ]
     },
     "metadata": {
      "needs_background": "light"
     },
     "output_type": "display_data"
    }
   ],
   "source": [
    "sns.scatterplot(y=df1.groupby('product_type').sum()['ordered_item_quantity'],x=-df1.groupby('product_type').sum()['discounts'])\n",
    "plt.savefig('upgrad_discount_quantity_corr.jpeg')\n",
    "plt.show()"
   ]
  },
  {
   "cell_type": "code",
   "execution_count": 217,
   "id": "7fc012a5",
   "metadata": {},
   "outputs": [
    {
     "data": {
      "text/html": [
       "<div>\n",
       "<style scoped>\n",
       "    .dataframe tbody tr th:only-of-type {\n",
       "        vertical-align: middle;\n",
       "    }\n",
       "\n",
       "    .dataframe tbody tr th {\n",
       "        vertical-align: top;\n",
       "    }\n",
       "\n",
       "    .dataframe thead th {\n",
       "        text-align: right;\n",
       "    }\n",
       "</style>\n",
       "<table border=\"1\" class=\"dataframe\">\n",
       "  <thead>\n",
       "    <tr style=\"text-align: right;\">\n",
       "      <th></th>\n",
       "      <th>discounts</th>\n",
       "      <th>ordered_item_quantity</th>\n",
       "    </tr>\n",
       "  </thead>\n",
       "  <tbody>\n",
       "    <tr>\n",
       "      <th>discounts</th>\n",
       "      <td>1.000000</td>\n",
       "      <td>-0.072414</td>\n",
       "    </tr>\n",
       "    <tr>\n",
       "      <th>ordered_item_quantity</th>\n",
       "      <td>-0.072414</td>\n",
       "      <td>1.000000</td>\n",
       "    </tr>\n",
       "  </tbody>\n",
       "</table>\n",
       "</div>"
      ],
      "text/plain": [
       "                       discounts  ordered_item_quantity\n",
       "discounts               1.000000              -0.072414\n",
       "ordered_item_quantity  -0.072414               1.000000"
      ]
     },
     "execution_count": 217,
     "metadata": {},
     "output_type": "execute_result"
    }
   ],
   "source": [
    "df1[['discounts','ordered_item_quantity']].corr()"
   ]
  },
  {
   "cell_type": "markdown",
   "id": "1f9053fb",
   "metadata": {},
   "source": [
    "## if discount increases does not increasing product quantity"
   ]
  },
  {
   "cell_type": "code",
   "execution_count": 199,
   "id": "2c573439",
   "metadata": {},
   "outputs": [
    {
     "data": {
      "text/plain": [
       "product_type\n",
       "Maternity Casual Dress    569368.32\n",
       "Maternity Gown            433163.96\n",
       "Twinning Tees             412532.93\n",
       "Baby Pyjamas Set          368097.33\n",
       "Maternity Ethnic Set      345224.03\n",
       "                            ...    \n",
       "Raakhi                        53.75\n",
       "Baby Wash                     51.73\n",
       "Wellness                      36.48\n",
       "Toothpaste                    21.16\n",
       "Baby Mittens                  12.85\n",
       "Name: taxes, Length: 301, dtype: float64"
      ]
     },
     "execution_count": 199,
     "metadata": {},
     "output_type": "execute_result"
    }
   ],
   "source": [
    "df1.groupby('product_type').sum()['taxes'].sort_values(ascending=False)"
   ]
  },
  {
   "cell_type": "markdown",
   "id": "2b889d04",
   "metadata": {},
   "source": [
    "## Product types list by tax wise"
   ]
  },
  {
   "cell_type": "code",
   "execution_count": 29,
   "id": "adb023a6",
   "metadata": {},
   "outputs": [
    {
     "data": {
      "text/plain": [
       "product_type\n",
       "Library Package      2455.930000\n",
       "Activity Seat        1872.764000\n",
       "Baby Sleep Gear      1809.985714\n",
       "Toy Chest            1773.760000\n",
       "Kitchen Tower        1683.377857\n",
       "SuperSeat            1513.824286\n",
       "Travel and Gear      1464.250000\n",
       "Baby Swing           1456.350244\n",
       "Table and Chair      1405.553333\n",
       "Place Mat            1403.240000\n",
       "Baby Crib            1388.616667\n",
       "Twin Strollers       1377.916667\n",
       "Super Seat           1372.740000\n",
       "Slide                1280.070000\n",
       "Baby Feeding Gear    1254.953704\n",
       "Table & Chair        1220.190000\n",
       "Play Mat             1172.341250\n",
       "Baby Swings          1111.368750\n",
       "Desk Set             1111.016667\n",
       "Ride On Toys         1067.640000\n",
       "Name: taxes, dtype: float64"
      ]
     },
     "execution_count": 29,
     "metadata": {},
     "output_type": "execute_result"
    }
   ],
   "source": [
    "df1.groupby('product_type').mean()['taxes'].sort_values(ascending=False).to_clipboard()\n",
    "df1.groupby('product_type').mean()['taxes'].sort_values(ascending=False).iloc[0:20]"
   ]
  },
  {
   "cell_type": "markdown",
   "id": "8118acd5",
   "metadata": {},
   "source": [
    "## Top 20 highest average tax product types"
   ]
  },
  {
   "cell_type": "code",
   "execution_count": 204,
   "id": "24522e65",
   "metadata": {},
   "outputs": [
    {
     "data": {
      "text/plain": [
       "product_type\n",
       "Gift Wrapping                    4.804020\n",
       "Baby Mittens                     6.425000\n",
       "Raakhi                          10.750000\n",
       "Baby Booties                    13.433684\n",
       "Mittens and Booties Set         13.851842\n",
       "Baby Caps                       14.635000\n",
       "Toothpaste                      21.160000\n",
       "Baby Pillow                     26.863333\n",
       "Teething Ring                   28.130000\n",
       "Baby Soap                       30.993913\n",
       "Kids Mask                       31.874524\n",
       "Baby Skin Care                  35.092500\n",
       "Mittens, Booties and Cap set    35.989989\n",
       "Wellness                        36.480000\n",
       "Rose Water                      37.953333\n",
       "Adult Mask                      39.828000\n",
       "Hygiene Essentials              50.882000\n",
       "Rattle                          50.884000\n",
       "Baby Wash                       51.730000\n",
       "Massage Oil                     54.270909\n",
       "Name: taxes, dtype: float64"
      ]
     },
     "execution_count": 204,
     "metadata": {},
     "output_type": "execute_result"
    }
   ],
   "source": [
    "df1.groupby('product_type').mean()['taxes'].sort_values(ascending=True).iloc[0:20]"
   ]
  },
  {
   "cell_type": "markdown",
   "id": "944f66f5",
   "metadata": {},
   "source": [
    "## least 20 product types by average tax"
   ]
  },
  {
   "cell_type": "code",
   "execution_count": 30,
   "id": "11515959",
   "metadata": {},
   "outputs": [
    {
     "data": {
      "text/plain": [
       "shipping_region              product_type          \n",
       "Abu Dhabi                    Maternity Gown            1759.12\n",
       "Alberta                      Baby Blanket              1143.12\n",
       "Andaman And Nicobar Islands  Baby Crib Sheet            846.61\n",
       "                             Baby Grooming Kit          990.76\n",
       "                             Baby Jewellery            1440.68\n",
       "                                                        ...   \n",
       "unknown_shipping_region      Swings                    2440.35\n",
       "                             Twinning Tees             3837.86\n",
       "                             Winter Caps for Babies     337.88\n",
       "                             Winter Trouser            1499.00\n",
       "                             unknown_product_type        61.60\n",
       "Name: net_sales, Length: 3817, dtype: float64"
      ]
     },
     "execution_count": 30,
     "metadata": {},
     "output_type": "execute_result"
    }
   ],
   "source": [
    "df1.groupby(['shipping_region','product_type']).sum()['net_sales'].to_clipboard()\n",
    "df1.groupby(['shipping_region','product_type']).sum()['net_sales']"
   ]
  },
  {
   "cell_type": "markdown",
   "id": "f6471215",
   "metadata": {},
   "source": [
    "## Region wise highest selling products"
   ]
  },
  {
   "cell_type": "code",
   "execution_count": 31,
   "id": "3d9b07cc",
   "metadata": {},
   "outputs": [
    {
     "data": {
      "text/html": [
       "<div>\n",
       "<style scoped>\n",
       "    .dataframe tbody tr th:only-of-type {\n",
       "        vertical-align: middle;\n",
       "    }\n",
       "\n",
       "    .dataframe tbody tr th {\n",
       "        vertical-align: top;\n",
       "    }\n",
       "\n",
       "    .dataframe thead th {\n",
       "        text-align: right;\n",
       "    }\n",
       "</style>\n",
       "<table border=\"1\" class=\"dataframe\">\n",
       "  <thead>\n",
       "    <tr style=\"text-align: right;\">\n",
       "      <th></th>\n",
       "      <th>shipping_region</th>\n",
       "      <th>product_type</th>\n",
       "      <th>net_sales</th>\n",
       "    </tr>\n",
       "  </thead>\n",
       "  <tbody>\n",
       "    <tr>\n",
       "      <th>0</th>\n",
       "      <td>Karnataka</td>\n",
       "      <td>Maternity Casual Dress</td>\n",
       "      <td>607983.75</td>\n",
       "    </tr>\n",
       "    <tr>\n",
       "      <th>1</th>\n",
       "      <td>Maharashtra</td>\n",
       "      <td>Maternity Casual Dress</td>\n",
       "      <td>559911.07</td>\n",
       "    </tr>\n",
       "    <tr>\n",
       "      <th>2</th>\n",
       "      <td>Karnataka</td>\n",
       "      <td>Maternity Gown</td>\n",
       "      <td>469924.21</td>\n",
       "    </tr>\n",
       "    <tr>\n",
       "      <th>3</th>\n",
       "      <td>Maharashtra</td>\n",
       "      <td>Gift Box</td>\n",
       "      <td>450897.69</td>\n",
       "    </tr>\n",
       "    <tr>\n",
       "      <th>4</th>\n",
       "      <td>Maharashtra</td>\n",
       "      <td>Maternity Gown</td>\n",
       "      <td>413142.87</td>\n",
       "    </tr>\n",
       "    <tr>\n",
       "      <th>...</th>\n",
       "      <td>...</td>\n",
       "      <td>...</td>\n",
       "      <td>...</td>\n",
       "    </tr>\n",
       "    <tr>\n",
       "      <th>3812</th>\n",
       "      <td>Bihar</td>\n",
       "      <td>Gift Wrapping</td>\n",
       "      <td>26.69</td>\n",
       "    </tr>\n",
       "    <tr>\n",
       "      <th>3813</th>\n",
       "      <td>Chhattisgarh</td>\n",
       "      <td>Gift Wrapping</td>\n",
       "      <td>26.69</td>\n",
       "    </tr>\n",
       "    <tr>\n",
       "      <th>3814</th>\n",
       "      <td>Andhra Pradesh</td>\n",
       "      <td>Baby Christmas Socks</td>\n",
       "      <td>9.21</td>\n",
       "    </tr>\n",
       "    <tr>\n",
       "      <th>3815</th>\n",
       "      <td>Delhi</td>\n",
       "      <td>Stretch Marks Balm</td>\n",
       "      <td>8.47</td>\n",
       "    </tr>\n",
       "    <tr>\n",
       "      <th>3816</th>\n",
       "      <td>Maharashtra</td>\n",
       "      <td>Baby Mittens</td>\n",
       "      <td>4.43</td>\n",
       "    </tr>\n",
       "  </tbody>\n",
       "</table>\n",
       "<p>3817 rows × 3 columns</p>\n",
       "</div>"
      ],
      "text/plain": [
       "     shipping_region            product_type  net_sales\n",
       "0          Karnataka  Maternity Casual Dress  607983.75\n",
       "1        Maharashtra  Maternity Casual Dress  559911.07\n",
       "2          Karnataka          Maternity Gown  469924.21\n",
       "3        Maharashtra                Gift Box  450897.69\n",
       "4        Maharashtra          Maternity Gown  413142.87\n",
       "...              ...                     ...        ...\n",
       "3812           Bihar           Gift Wrapping      26.69\n",
       "3813    Chhattisgarh           Gift Wrapping      26.69\n",
       "3814  Andhra Pradesh    Baby Christmas Socks       9.21\n",
       "3815           Delhi      Stretch Marks Balm       8.47\n",
       "3816     Maharashtra            Baby Mittens       4.43\n",
       "\n",
       "[3817 rows x 3 columns]"
      ]
     },
     "execution_count": 31,
     "metadata": {},
     "output_type": "execute_result"
    }
   ],
   "source": [
    "region_product=df1.groupby(['shipping_region','product_type']).sum()['net_sales'].sort_values(ascending=False).reset_index()\n",
    "region_product.to_clipboard()\n",
    "region_product"
   ]
  },
  {
   "cell_type": "code",
   "execution_count": 214,
   "id": "0a089358",
   "metadata": {},
   "outputs": [
    {
     "data": {
      "text/html": [
       "<div>\n",
       "<style scoped>\n",
       "    .dataframe tbody tr th:only-of-type {\n",
       "        vertical-align: middle;\n",
       "    }\n",
       "\n",
       "    .dataframe tbody tr th {\n",
       "        vertical-align: top;\n",
       "    }\n",
       "\n",
       "    .dataframe thead th {\n",
       "        text-align: right;\n",
       "    }\n",
       "</style>\n",
       "<table border=\"1\" class=\"dataframe\">\n",
       "  <thead>\n",
       "    <tr style=\"text-align: right;\">\n",
       "      <th></th>\n",
       "      <th>shipping_region</th>\n",
       "      <th>product_type</th>\n",
       "      <th>net_sales</th>\n",
       "    </tr>\n",
       "  </thead>\n",
       "  <tbody>\n",
       "    <tr>\n",
       "      <th>0</th>\n",
       "      <td>Karnataka</td>\n",
       "      <td>Maternity Casual Dress</td>\n",
       "      <td>607983.75</td>\n",
       "    </tr>\n",
       "    <tr>\n",
       "      <th>1</th>\n",
       "      <td>Maharashtra</td>\n",
       "      <td>Maternity Casual Dress</td>\n",
       "      <td>559911.07</td>\n",
       "    </tr>\n",
       "    <tr>\n",
       "      <th>2</th>\n",
       "      <td>Karnataka</td>\n",
       "      <td>Maternity Gown</td>\n",
       "      <td>469924.21</td>\n",
       "    </tr>\n",
       "    <tr>\n",
       "      <th>3</th>\n",
       "      <td>Maharashtra</td>\n",
       "      <td>Gift Box</td>\n",
       "      <td>450897.69</td>\n",
       "    </tr>\n",
       "    <tr>\n",
       "      <th>4</th>\n",
       "      <td>Maharashtra</td>\n",
       "      <td>Maternity Gown</td>\n",
       "      <td>413142.87</td>\n",
       "    </tr>\n",
       "    <tr>\n",
       "      <th>5</th>\n",
       "      <td>Karnataka</td>\n",
       "      <td>Maternity Ethnic Set</td>\n",
       "      <td>365858.92</td>\n",
       "    </tr>\n",
       "    <tr>\n",
       "      <th>6</th>\n",
       "      <td>Maharashtra</td>\n",
       "      <td>Baby Pyjamas Set</td>\n",
       "      <td>349656.62</td>\n",
       "    </tr>\n",
       "    <tr>\n",
       "      <th>7</th>\n",
       "      <td>Maharashtra</td>\n",
       "      <td>Maternity Leggings</td>\n",
       "      <td>348745.52</td>\n",
       "    </tr>\n",
       "    <tr>\n",
       "      <th>8</th>\n",
       "      <td>Karnataka</td>\n",
       "      <td>Maternity Ethnic Wear</td>\n",
       "      <td>338526.23</td>\n",
       "    </tr>\n",
       "    <tr>\n",
       "      <th>9</th>\n",
       "      <td>Maharashtra</td>\n",
       "      <td>Twinning Tees</td>\n",
       "      <td>337706.74</td>\n",
       "    </tr>\n",
       "  </tbody>\n",
       "</table>\n",
       "</div>"
      ],
      "text/plain": [
       "  shipping_region            product_type  net_sales\n",
       "0       Karnataka  Maternity Casual Dress  607983.75\n",
       "1     Maharashtra  Maternity Casual Dress  559911.07\n",
       "2       Karnataka          Maternity Gown  469924.21\n",
       "3     Maharashtra                Gift Box  450897.69\n",
       "4     Maharashtra          Maternity Gown  413142.87\n",
       "5       Karnataka    Maternity Ethnic Set  365858.92\n",
       "6     Maharashtra        Baby Pyjamas Set  349656.62\n",
       "7     Maharashtra      Maternity Leggings  348745.52\n",
       "8       Karnataka   Maternity Ethnic Wear  338526.23\n",
       "9     Maharashtra           Twinning Tees  337706.74"
      ]
     },
     "execution_count": 214,
     "metadata": {},
     "output_type": "execute_result"
    }
   ],
   "source": [
    "region_product.iloc[0:10]"
   ]
  },
  {
   "cell_type": "markdown",
   "id": "0efe5ef0",
   "metadata": {},
   "source": [
    "## Top 10 selling product types along with shipping region"
   ]
  },
  {
   "cell_type": "code",
   "execution_count": 261,
   "id": "f0dcf9d6",
   "metadata": {},
   "outputs": [
    {
     "data": {
      "text/html": [
       "<div>\n",
       "<style scoped>\n",
       "    .dataframe tbody tr th:only-of-type {\n",
       "        vertical-align: middle;\n",
       "    }\n",
       "\n",
       "    .dataframe tbody tr th {\n",
       "        vertical-align: top;\n",
       "    }\n",
       "\n",
       "    .dataframe thead th {\n",
       "        text-align: right;\n",
       "    }\n",
       "</style>\n",
       "<table border=\"1\" class=\"dataframe\">\n",
       "  <thead>\n",
       "    <tr style=\"text-align: right;\">\n",
       "      <th></th>\n",
       "      <th>product_title</th>\n",
       "      <th>product_type</th>\n",
       "      <th>net_sales</th>\n",
       "    </tr>\n",
       "  </thead>\n",
       "  <tbody>\n",
       "    <tr>\n",
       "      <th>831</th>\n",
       "      <td>Comfy Maternity Leggings Black</td>\n",
       "      <td>Maternity Leggings</td>\n",
       "      <td>960249.29</td>\n",
       "    </tr>\n",
       "    <tr>\n",
       "      <th>834</th>\n",
       "      <td>Comfy Maternity Regular Pants - Black</td>\n",
       "      <td>Maternity Trackpants</td>\n",
       "      <td>609506.96</td>\n",
       "    </tr>\n",
       "    <tr>\n",
       "      <th>2190</th>\n",
       "      <td>Nursing Pumping Bra Grey-Hand Free</td>\n",
       "      <td>Maternity Bra</td>\n",
       "      <td>480627.55</td>\n",
       "    </tr>\n",
       "    <tr>\n",
       "      <th>379</th>\n",
       "      <td>Baby Travel and Grooming Kit- Yellow</td>\n",
       "      <td>Baby Grooming Kit</td>\n",
       "      <td>424494.50</td>\n",
       "    </tr>\n",
       "    <tr>\n",
       "      <th>2188</th>\n",
       "      <td>Nursing Pumping Bra Black-Hand Free</td>\n",
       "      <td>Maternity Bra</td>\n",
       "      <td>418981.95</td>\n",
       "    </tr>\n",
       "    <tr>\n",
       "      <th>1080</th>\n",
       "      <td>Elegant Wine Maternity Dress</td>\n",
       "      <td>Maternity Gown</td>\n",
       "      <td>408138.23</td>\n",
       "    </tr>\n",
       "    <tr>\n",
       "      <th>2309</th>\n",
       "      <td>Pajama Set Combo of 3: Dino Trip-Tall as a Gir...</td>\n",
       "      <td>Baby Pyjamas Set</td>\n",
       "      <td>402839.75</td>\n",
       "    </tr>\n",
       "    <tr>\n",
       "      <th>2759</th>\n",
       "      <td>Rule Breaker Kids T shirt</td>\n",
       "      <td>Twinning Tees</td>\n",
       "      <td>353646.00</td>\n",
       "    </tr>\n",
       "    <tr>\n",
       "      <th>2764</th>\n",
       "      <td>Rule Changer Mens T shirt</td>\n",
       "      <td>Twinning Tees</td>\n",
       "      <td>351887.96</td>\n",
       "    </tr>\n",
       "    <tr>\n",
       "      <th>2766</th>\n",
       "      <td>Rule Maker Womens T shirt</td>\n",
       "      <td>Twinning Tees</td>\n",
       "      <td>350454.70</td>\n",
       "    </tr>\n",
       "    <tr>\n",
       "      <th>833</th>\n",
       "      <td>Comfy Maternity Leggings Navy Blue</td>\n",
       "      <td>Maternity Leggings</td>\n",
       "      <td>344895.26</td>\n",
       "    </tr>\n",
       "    <tr>\n",
       "      <th>1076</th>\n",
       "      <td>Elasticated Waist Paneled Maternity Denims wit...</td>\n",
       "      <td>Maternity Denims</td>\n",
       "      <td>307027.72</td>\n",
       "    </tr>\n",
       "    <tr>\n",
       "      <th>3413</th>\n",
       "      <td>Wide Leg Maternity Denim with Belly Support</td>\n",
       "      <td>Maternity Denims</td>\n",
       "      <td>288756.29</td>\n",
       "    </tr>\n",
       "    <tr>\n",
       "      <th>2662</th>\n",
       "      <td>Raspberry Glow Maternity Dress</td>\n",
       "      <td>Maternity Gown</td>\n",
       "      <td>267169.72</td>\n",
       "    </tr>\n",
       "    <tr>\n",
       "      <th>2755</th>\n",
       "      <td>Rudolph Maternity and Nursing Sweatshirt Pajam...</td>\n",
       "      <td>Maternity Nightwear Set</td>\n",
       "      <td>227852.21</td>\n",
       "    </tr>\n",
       "    <tr>\n",
       "      <th>1866</th>\n",
       "      <td>Maternity Denim Dungaree with Side Buttons Blue</td>\n",
       "      <td>Maternity Dungaree</td>\n",
       "      <td>221688.63</td>\n",
       "    </tr>\n",
       "    <tr>\n",
       "      <th>3287</th>\n",
       "      <td>The Limited Edition Diaper Bag for Parents- Ta...</td>\n",
       "      <td>Diaper Bags</td>\n",
       "      <td>221057.49</td>\n",
       "    </tr>\n",
       "    <tr>\n",
       "      <th>377</th>\n",
       "      <td>Baby Travel and Grooming Kit- Blue</td>\n",
       "      <td>Baby Grooming Kit</td>\n",
       "      <td>216694.29</td>\n",
       "    </tr>\n",
       "    <tr>\n",
       "      <th>3371</th>\n",
       "      <td>Twinkle New Born Gift  Box  - Shine</td>\n",
       "      <td>Gift Box</td>\n",
       "      <td>200430.69</td>\n",
       "    </tr>\n",
       "    <tr>\n",
       "      <th>1825</th>\n",
       "      <td>Mastela 3-in-1 Deluxe Multi-Functional Bassine...</td>\n",
       "      <td>Baby Swings</td>\n",
       "      <td>198071.74</td>\n",
       "    </tr>\n",
       "  </tbody>\n",
       "</table>\n",
       "</div>"
      ],
      "text/plain": [
       "                                          product_title  \\\n",
       "831                      Comfy Maternity Leggings Black   \n",
       "834               Comfy Maternity Regular Pants - Black   \n",
       "2190                 Nursing Pumping Bra Grey-Hand Free   \n",
       "379                Baby Travel and Grooming Kit- Yellow   \n",
       "2188                Nursing Pumping Bra Black-Hand Free   \n",
       "1080                       Elegant Wine Maternity Dress   \n",
       "2309  Pajama Set Combo of 3: Dino Trip-Tall as a Gir...   \n",
       "2759                          Rule Breaker Kids T shirt   \n",
       "2764                          Rule Changer Mens T shirt   \n",
       "2766                          Rule Maker Womens T shirt   \n",
       "833                  Comfy Maternity Leggings Navy Blue   \n",
       "1076  Elasticated Waist Paneled Maternity Denims wit...   \n",
       "3413        Wide Leg Maternity Denim with Belly Support   \n",
       "2662                     Raspberry Glow Maternity Dress   \n",
       "2755  Rudolph Maternity and Nursing Sweatshirt Pajam...   \n",
       "1866    Maternity Denim Dungaree with Side Buttons Blue   \n",
       "3287  The Limited Edition Diaper Bag for Parents- Ta...   \n",
       "377                  Baby Travel and Grooming Kit- Blue   \n",
       "3371                Twinkle New Born Gift  Box  - Shine   \n",
       "1825  Mastela 3-in-1 Deluxe Multi-Functional Bassine...   \n",
       "\n",
       "                 product_type  net_sales  \n",
       "831        Maternity Leggings  960249.29  \n",
       "834      Maternity Trackpants  609506.96  \n",
       "2190            Maternity Bra  480627.55  \n",
       "379         Baby Grooming Kit  424494.50  \n",
       "2188            Maternity Bra  418981.95  \n",
       "1080           Maternity Gown  408138.23  \n",
       "2309         Baby Pyjamas Set  402839.75  \n",
       "2759            Twinning Tees  353646.00  \n",
       "2764            Twinning Tees  351887.96  \n",
       "2766            Twinning Tees  350454.70  \n",
       "833        Maternity Leggings  344895.26  \n",
       "1076         Maternity Denims  307027.72  \n",
       "3413         Maternity Denims  288756.29  \n",
       "2662           Maternity Gown  267169.72  \n",
       "2755  Maternity Nightwear Set  227852.21  \n",
       "1866       Maternity Dungaree  221688.63  \n",
       "3287              Diaper Bags  221057.49  \n",
       "377         Baby Grooming Kit  216694.29  \n",
       "3371                 Gift Box  200430.69  \n",
       "1825              Baby Swings  198071.74  "
      ]
     },
     "execution_count": 261,
     "metadata": {},
     "output_type": "execute_result"
    }
   ],
   "source": [
    "top_producttitle=df1.groupby(['product_title','product_type']).sum()['net_sales'].reset_index().sort_values('net_sales',ascending=False).iloc[0:20]\n",
    "top_producttitle"
   ]
  },
  {
   "cell_type": "code",
   "execution_count": 262,
   "id": "ff25dcf5",
   "metadata": {},
   "outputs": [],
   "source": [
    "top_producttitle.to_csv('upgrad_top_selling_producttitles.csv')"
   ]
  },
  {
   "cell_type": "markdown",
   "id": "d399523d",
   "metadata": {},
   "source": [
    "## Top 20 highest sales product titles along with product type"
   ]
  },
  {
   "cell_type": "code",
   "execution_count": 259,
   "id": "0a2756b8",
   "metadata": {},
   "outputs": [
    {
     "data": {
      "image/png": "[encoded data removed]",
      "text/plain": [
       "<Figure size 1440x864 with 1 Axes>"
      ]
     },
     "metadata": {
      "needs_background": "light"
     },
     "output_type": "display_data"
    }
   ],
   "source": [
    "plt.figure(figsize=[20,12])\n",
    "sns.barplot(data=df1.groupby(['product_title','product_type']).sum()['net_sales'].reset_index().sort_values('net_sales',ascending=False).iloc[0:20],x='product_title',y='net_sales')\n",
    "plt.xticks(rotation=90)\n",
    "plt.savefig('upgrad_top20_producttitles.jpeg')\n",
    "plt.show()"
   ]
  },
  {
   "attachments": {},
   "cell_type": "markdown",
   "id": "16115d03",
   "metadata": {},
   "source": [
    "## For all identification refer above content\n",
    "## Recommendations:\n",
    "\n",
    "\n",
    "\n",
    "* After November – 2022 sales are started to dropping\n",
    "  need to identify the reason for this drop\n",
    "* Identify the most frequent and least frequent shipping region accordingly plan the transportation and maintain the inventory\n",
    "* 45% of cities are getting 1 order only so need to look into this accordingly plan the marketing campaign plans\n",
    "* Identify the regions with low tax and try to increase the sale to this regions \n",
    "* Identify the high discount product types and give discount accordingly region and product wise\n",
    "* Refer Top 10 product types accordingly increase those products supply to avoid shortage\n",
    "* Identify which products selling more in which regions accordingly can plan the logistic to reduce the transportation and       storage cost\n",
    "* Not more Correlation between discount and number of quantity ordered so accordingly plan the discounts\n",
    "* Discount does not affect of the quantity ordered\n",
    "* Identify the low tax products accordingly plan to increase the sales of that product that will give more profit\n",
    "\n",
    "\n"
   ]
  },
  {
   "cell_type": "code",
   "execution_count": null,
   "id": "f26a3876",
   "metadata": {},
   "outputs": [],
   "source": []
  }
 ],
 "metadata": {
  "kernelspec": {
   "display_name": "Python 3 (ipykernel)",
   "language": "python",
   "name": "python3"
  },
  "language_info": {
   "codemirror_mode": {
    "name": "ipython",
    "version": 3
   },
   "file_extension": ".py",
   "mimetype": "text/x-python",
   "name": "python",
   "nbconvert_exporter": "python",
   "pygments_lexer": "ipython3",
   "version": "3.9.12"
  }
 },
 "nbformat": 4,
 "nbformat_minor": 5
}
